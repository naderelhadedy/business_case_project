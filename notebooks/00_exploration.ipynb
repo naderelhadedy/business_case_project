{
 "cells": [
  {
   "cell_type": "code",
   "execution_count": 1,
   "metadata": {},
   "outputs": [],
   "source": [
    "DATA_PATH = '../data/raw/developer_survey_2020/survey_results_public.csv'\n",
    "EXPORT_PATH = '../data/processed/cleaned_df.pkl'"
   ]
  },
  {
   "cell_type": "code",
   "execution_count": 2,
   "metadata": {},
   "outputs": [],
   "source": [
    "import pickle\n",
    "import numpy as np\n",
    "import pandas as pd\n",
    "pd.options.display.max_rows = 10000"
   ]
  },
  {
   "cell_type": "code",
   "execution_count": 3,
   "metadata": {},
   "outputs": [],
   "source": [
    "raw_df = pd.read_csv(DATA_PATH)"
   ]
  },
  {
   "cell_type": "code",
   "execution_count": 4,
   "metadata": {},
   "outputs": [
    {
     "data": {
      "text/plain": [
       "(64461, 61)"
      ]
     },
     "execution_count": 4,
     "metadata": {},
     "output_type": "execute_result"
    }
   ],
   "source": [
    "raw_df.shape"
   ]
  },
  {
   "cell_type": "code",
   "execution_count": 5,
   "metadata": {},
   "outputs": [
    {
     "data": {
      "text/plain": [
       "Respondent                                                                  36859\n",
       "MainBranch                                 I am a student who is learning to code\n",
       "Hobbyist                                                                      Yes\n",
       "Age                                                                           NaN\n",
       "Age1stCode                                                                     18\n",
       "CompFreq                                                                      NaN\n",
       "CompTotal                                                                     NaN\n",
       "ConvertedComp                                                                 NaN\n",
       "Country                                                                     China\n",
       "CurrencyDesc                                                                  NaN\n",
       "CurrencySymbol                                                                NaN\n",
       "DatabaseDesireNextYear                                         MySQL;Redis;SQLite\n",
       "DatabaseWorkedWith                                             MySQL;Redis;SQLite\n",
       "DevType                                                                       NaN\n",
       "EdLevel                              Bachelor’s degree (B.A., B.S., B.Eng., etc.)\n",
       "Employment                                                                Student\n",
       "Ethnicity                                                                     NaN\n",
       "Gender                                                                        NaN\n",
       "JobFactors                             Opportunities for professional development\n",
       "JobSat                                                                        NaN\n",
       "JobSeek                                           I am actively looking for a job\n",
       "LanguageDesireNextYear                                                 C;C++;Java\n",
       "LanguageWorkedWith                                              C;C++;Java;Python\n",
       "MiscTechDesireNextYear                                                        NaN\n",
       "MiscTechWorkedWith                                                            NaN\n",
       "NEWCollabToolsDesireNextYear                                                  NaN\n",
       "NEWCollabToolsWorkedWith                                                      NaN\n",
       "NEWDevOps                                                                     NaN\n",
       "NEWDevOpsImpt                                                                 NaN\n",
       "NEWEdImpt                                                                     NaN\n",
       "NEWJobHunt                                                                    NaN\n",
       "NEWJobHuntResearch                                                            NaN\n",
       "NEWLearn                                                         Every few months\n",
       "NEWOffTopic                                                                   NaN\n",
       "NEWOnboardGood                                                                NaN\n",
       "NEWOtherComms                                                                 NaN\n",
       "NEWOvertime                                                                   NaN\n",
       "NEWPurchaseResearch                                                           NaN\n",
       "NEWPurpleLink                                                                 NaN\n",
       "NEWSOSites                                                                    NaN\n",
       "NEWStuck                                                                      NaN\n",
       "OpSys                                                                         NaN\n",
       "OrgSize                                                                       NaN\n",
       "PlatformDesireNextYear                                                        NaN\n",
       "PlatformWorkedWith                                                            NaN\n",
       "PurchaseWhat                                                                  NaN\n",
       "Sexuality                                                                     NaN\n",
       "SOAccount                                                                     NaN\n",
       "SOComm                                                                        NaN\n",
       "SOPartFreq                                                                    NaN\n",
       "SOVisitFreq                                                                   NaN\n",
       "SurveyEase                                                                    NaN\n",
       "SurveyLength                                                                  NaN\n",
       "Trans                                                                         NaN\n",
       "UndergradMajor                  Computer science, computer engineering, or sof...\n",
       "WebframeDesireNextYear                                                        NaN\n",
       "WebframeWorkedWith                                                            NaN\n",
       "WelcomeChange                                                                 NaN\n",
       "WorkWeekHrs                                                                   NaN\n",
       "YearsCode                                                                       3\n",
       "YearsCodePro                                                                  NaN\n",
       "Name: 36617, dtype: object"
      ]
     },
     "execution_count": 5,
     "metadata": {},
     "output_type": "execute_result"
    }
   ],
   "source": [
    "raw_df.sample(1).iloc[0]"
   ]
  },
  {
   "cell_type": "code",
   "execution_count": 6,
   "metadata": {},
   "outputs": [
    {
     "name": "stdout",
     "output_type": "stream",
     "text": [
      "<class 'pandas.core.frame.DataFrame'>\n",
      "RangeIndex: 64461 entries, 0 to 64460\n",
      "Data columns (total 61 columns):\n",
      " #   Column                        Non-Null Count  Dtype  \n",
      "---  ------                        --------------  -----  \n",
      " 0   Respondent                    64461 non-null  int64  \n",
      " 1   MainBranch                    64162 non-null  object \n",
      " 2   Hobbyist                      64416 non-null  object \n",
      " 3   Age                           45446 non-null  float64\n",
      " 4   Age1stCode                    57900 non-null  object \n",
      " 5   CompFreq                      40069 non-null  object \n",
      " 6   CompTotal                     34826 non-null  float64\n",
      " 7   ConvertedComp                 34756 non-null  float64\n",
      " 8   Country                       64072 non-null  object \n",
      " 9   CurrencyDesc                  45472 non-null  object \n",
      " 10  CurrencySymbol                45472 non-null  object \n",
      " 11  DatabaseDesireNextYear        44070 non-null  object \n",
      " 12  DatabaseWorkedWith            49537 non-null  object \n",
      " 13  DevType                       49370 non-null  object \n",
      " 14  EdLevel                       57431 non-null  object \n",
      " 15  Employment                    63854 non-null  object \n",
      " 16  Ethnicity                     45948 non-null  object \n",
      " 17  Gender                        50557 non-null  object \n",
      " 18  JobFactors                    49349 non-null  object \n",
      " 19  JobSat                        45194 non-null  object \n",
      " 20  JobSeek                       51727 non-null  object \n",
      " 21  LanguageDesireNextYear        54113 non-null  object \n",
      " 22  LanguageWorkedWith            57378 non-null  object \n",
      " 23  MiscTechDesireNextYear        42379 non-null  object \n",
      " 24  MiscTechWorkedWith            40314 non-null  object \n",
      " 25  NEWCollabToolsDesireNextYear  47287 non-null  object \n",
      " 26  NEWCollabToolsWorkedWith      52883 non-null  object \n",
      " 27  NEWDevOps                     42686 non-null  object \n",
      " 28  NEWDevOpsImpt                 41732 non-null  object \n",
      " 29  NEWEdImpt                     48465 non-null  object \n",
      " 30  NEWJobHunt                    42286 non-null  object \n",
      " 31  NEWJobHuntResearch            41022 non-null  object \n",
      " 32  NEWLearn                      56156 non-null  object \n",
      " 33  NEWOffTopic                   50804 non-null  object \n",
      " 34  NEWOnboardGood                42623 non-null  object \n",
      " 35  NEWOtherComms                 57205 non-null  object \n",
      " 36  NEWOvertime                   43231 non-null  object \n",
      " 37  NEWPurchaseResearch           37321 non-null  object \n",
      " 38  NEWPurpleLink                 54803 non-null  object \n",
      " 39  NEWSOSites                    58275 non-null  object \n",
      " 40  NEWStuck                      54983 non-null  object \n",
      " 41  OpSys                         56228 non-null  object \n",
      " 42  OrgSize                       44334 non-null  object \n",
      " 43  PlatformDesireNextYear        50605 non-null  object \n",
      " 44  PlatformWorkedWith            53843 non-null  object \n",
      " 45  PurchaseWhat                  39364 non-null  object \n",
      " 46  Sexuality                     43992 non-null  object \n",
      " 47  SOAccount                     56805 non-null  object \n",
      " 48  SOComm                        56476 non-null  object \n",
      " 49  SOPartFreq                    46792 non-null  object \n",
      " 50  SOVisitFreq                   56970 non-null  object \n",
      " 51  SurveyEase                    51802 non-null  object \n",
      " 52  SurveyLength                  51701 non-null  object \n",
      " 53  Trans                         49345 non-null  object \n",
      " 54  UndergradMajor                50995 non-null  object \n",
      " 55  WebframeDesireNextYear        40024 non-null  object \n",
      " 56  WebframeWorkedWith            42279 non-null  object \n",
      " 57  WelcomeChange                 52683 non-null  object \n",
      " 58  WorkWeekHrs                   41151 non-null  float64\n",
      " 59  YearsCode                     57684 non-null  object \n",
      " 60  YearsCodePro                  46349 non-null  object \n",
      "dtypes: float64(4), int64(1), object(56)\n",
      "memory usage: 30.0+ MB\n"
     ]
    }
   ],
   "source": [
    "raw_df.info()"
   ]
  },
  {
   "cell_type": "code",
   "execution_count": 7,
   "metadata": {},
   "outputs": [
    {
     "data": {
      "text/html": [
       "<div>\n",
       "<style scoped>\n",
       "    .dataframe tbody tr th:only-of-type {\n",
       "        vertical-align: middle;\n",
       "    }\n",
       "\n",
       "    .dataframe tbody tr th {\n",
       "        vertical-align: top;\n",
       "    }\n",
       "\n",
       "    .dataframe thead th {\n",
       "        text-align: right;\n",
       "    }\n",
       "</style>\n",
       "<table border=\"1\" class=\"dataframe\">\n",
       "  <thead>\n",
       "    <tr style=\"text-align: right;\">\n",
       "      <th></th>\n",
       "      <th>Respondent</th>\n",
       "      <th>Age</th>\n",
       "      <th>CompTotal</th>\n",
       "      <th>ConvertedComp</th>\n",
       "      <th>WorkWeekHrs</th>\n",
       "    </tr>\n",
       "  </thead>\n",
       "  <tbody>\n",
       "    <tr>\n",
       "      <th>count</th>\n",
       "      <td>64461.000000</td>\n",
       "      <td>45446.000000</td>\n",
       "      <td>3.482600e+04</td>\n",
       "      <td>3.475600e+04</td>\n",
       "      <td>41151.000000</td>\n",
       "    </tr>\n",
       "    <tr>\n",
       "      <th>mean</th>\n",
       "      <td>32554.079738</td>\n",
       "      <td>30.834111</td>\n",
       "      <td>3.190464e+242</td>\n",
       "      <td>1.037561e+05</td>\n",
       "      <td>40.782174</td>\n",
       "    </tr>\n",
       "    <tr>\n",
       "      <th>std</th>\n",
       "      <td>18967.442360</td>\n",
       "      <td>9.585392</td>\n",
       "      <td>inf</td>\n",
       "      <td>2.268853e+05</td>\n",
       "      <td>17.816383</td>\n",
       "    </tr>\n",
       "    <tr>\n",
       "      <th>min</th>\n",
       "      <td>1.000000</td>\n",
       "      <td>1.000000</td>\n",
       "      <td>0.000000e+00</td>\n",
       "      <td>0.000000e+00</td>\n",
       "      <td>1.000000</td>\n",
       "    </tr>\n",
       "    <tr>\n",
       "      <th>25%</th>\n",
       "      <td>16116.000000</td>\n",
       "      <td>24.000000</td>\n",
       "      <td>2.000000e+04</td>\n",
       "      <td>2.464800e+04</td>\n",
       "      <td>40.000000</td>\n",
       "    </tr>\n",
       "    <tr>\n",
       "      <th>50%</th>\n",
       "      <td>32231.000000</td>\n",
       "      <td>29.000000</td>\n",
       "      <td>6.300000e+04</td>\n",
       "      <td>5.404900e+04</td>\n",
       "      <td>40.000000</td>\n",
       "    </tr>\n",
       "    <tr>\n",
       "      <th>75%</th>\n",
       "      <td>49142.000000</td>\n",
       "      <td>35.000000</td>\n",
       "      <td>1.250000e+05</td>\n",
       "      <td>9.500000e+04</td>\n",
       "      <td>44.000000</td>\n",
       "    </tr>\n",
       "    <tr>\n",
       "      <th>max</th>\n",
       "      <td>65639.000000</td>\n",
       "      <td>279.000000</td>\n",
       "      <td>1.111111e+247</td>\n",
       "      <td>2.000000e+06</td>\n",
       "      <td>475.000000</td>\n",
       "    </tr>\n",
       "  </tbody>\n",
       "</table>\n",
       "</div>"
      ],
      "text/plain": [
       "         Respondent           Age      CompTotal  ConvertedComp   WorkWeekHrs\n",
       "count  64461.000000  45446.000000   3.482600e+04   3.475600e+04  41151.000000\n",
       "mean   32554.079738     30.834111  3.190464e+242   1.037561e+05     40.782174\n",
       "std    18967.442360      9.585392            inf   2.268853e+05     17.816383\n",
       "min        1.000000      1.000000   0.000000e+00   0.000000e+00      1.000000\n",
       "25%    16116.000000     24.000000   2.000000e+04   2.464800e+04     40.000000\n",
       "50%    32231.000000     29.000000   6.300000e+04   5.404900e+04     40.000000\n",
       "75%    49142.000000     35.000000   1.250000e+05   9.500000e+04     44.000000\n",
       "max    65639.000000    279.000000  1.111111e+247   2.000000e+06    475.000000"
      ]
     },
     "execution_count": 7,
     "metadata": {},
     "output_type": "execute_result"
    }
   ],
   "source": [
    "raw_df.describe()"
   ]
  },
  {
   "cell_type": "code",
   "execution_count": 8,
   "metadata": {},
   "outputs": [],
   "source": [
    "questionable_cols = [\"YearsCodePro\", \"YearsCode\", \"Age1stCode\"]"
   ]
  },
  {
   "cell_type": "code",
   "execution_count": 9,
   "metadata": {},
   "outputs": [
    {
     "name": "stdout",
     "output_type": "stream",
     "text": [
      "YearsCodePro\n",
      "['27', '4', nan, '8', '13', '2', '7', '20', '1', '23', '3', '12', '17', '18', '10', '14', '29', '6', '28', '9', '15', '11', '16', '25', 'Less than 1 year', '5', '21', '19', '35', '24', '32', '22', '30', '38', '26', '40', '33', '31', 'More than 50 years', '34', '36', '39', '37', '41', '45', '47', '42', '46', '50', '43', '44', '48', '49']\n",
      "---------------\n",
      "\n",
      "YearsCode\n",
      "['36', '7', '4', '15', '6', '17', '8', '10', '35', '5', '37', '19', '9', '22', '30', '23', '20', '2', 'Less than 1 year', '3', '13', '25', '16', '43', '11', '38', '33', nan, '24', '21', '12', '40', '27', '50', '46', '14', '18', '28', '32', '44', '26', '42', '31', '34', '29', '1', '39', '41', '45', 'More than 50 years', '47', '49', '48']\n",
      "---------------\n",
      "\n",
      "Age1stCode\n",
      "['13', '19', '15', '18', '16', '14', '12', '20', '42', '8', '25', '22', '30', '17', '21', '10', '46', '9', '7', '11', '6', nan, '31', '29', '5', 'Younger than 5 years', '28', '38', '23', '27', '41', '24', '53', '26', '35', '32', '40', '33', '36', '54', '48', '56', '45', '44', '34', 'Older than 85', '39', '51', '68', '50', '37', '47', '43', '52', '85', '64', '55', '58', '49', '76', '72', '73', '83', '63']\n",
      "---------------\n",
      "\n"
     ]
    }
   ],
   "source": [
    "for col in questionable_cols:\n",
    "    print(col)\n",
    "    print(raw_df[col].unique().tolist())\n",
    "    print('---------------')\n",
    "    print()"
   ]
  },
  {
   "cell_type": "code",
   "execution_count": 10,
   "metadata": {},
   "outputs": [],
   "source": [
    "raw_df[questionable_cols] = raw_df[questionable_cols].replace(regex='than.*', value=np.NaN)\n",
    "raw_df[questionable_cols] = raw_df[questionable_cols].fillna(raw_df[questionable_cols].median()).astype('float32')"
   ]
  },
  {
   "cell_type": "code",
   "execution_count": 11,
   "metadata": {},
   "outputs": [
    {
     "name": "stdout",
     "output_type": "stream",
     "text": [
      "YearsCodePro\n",
      "[27.0, 4.0, 6.0, 8.0, 13.0, 2.0, 7.0, 20.0, 1.0, 23.0, 3.0, 12.0, 17.0, 18.0, 10.0, 14.0, 29.0, 28.0, 9.0, 15.0, 11.0, 16.0, 25.0, 5.0, 21.0, 19.0, 35.0, 24.0, 32.0, 22.0, 30.0, 38.0, 26.0, 40.0, 33.0, 31.0, 34.0, 36.0, 39.0, 37.0, 41.0, 45.0, 47.0, 42.0, 46.0, 50.0, 43.0, 44.0, 48.0, 49.0]\n",
      "---------------\n",
      "\n",
      "YearsCode\n",
      "[36.0, 7.0, 4.0, 15.0, 6.0, 17.0, 8.0, 10.0, 35.0, 5.0, 37.0, 19.0, 9.0, 22.0, 30.0, 23.0, 20.0, 2.0, 3.0, 13.0, 25.0, 16.0, 43.0, 11.0, 38.0, 33.0, 24.0, 21.0, 12.0, 40.0, 27.0, 50.0, 46.0, 14.0, 18.0, 28.0, 32.0, 44.0, 26.0, 42.0, 31.0, 34.0, 29.0, 1.0, 39.0, 41.0, 45.0, 47.0, 49.0, 48.0]\n",
      "---------------\n",
      "\n",
      "Age1stCode\n",
      "[13.0, 19.0, 15.0, 18.0, 16.0, 14.0, 12.0, 20.0, 42.0, 8.0, 25.0, 22.0, 30.0, 17.0, 21.0, 10.0, 46.0, 9.0, 7.0, 11.0, 6.0, 31.0, 29.0, 5.0, 28.0, 38.0, 23.0, 27.0, 41.0, 24.0, 53.0, 26.0, 35.0, 32.0, 40.0, 33.0, 36.0, 54.0, 48.0, 56.0, 45.0, 44.0, 34.0, 39.0, 51.0, 68.0, 50.0, 37.0, 47.0, 43.0, 52.0, 85.0, 64.0, 55.0, 58.0, 49.0, 76.0, 72.0, 73.0, 83.0, 63.0]\n",
      "---------------\n",
      "\n"
     ]
    }
   ],
   "source": [
    "for col in questionable_cols:\n",
    "    print(col)\n",
    "    print(raw_df[col].unique().tolist())\n",
    "    print('---------------')\n",
    "    print()"
   ]
  },
  {
   "cell_type": "code",
   "execution_count": 12,
   "metadata": {},
   "outputs": [],
   "source": [
    "# REPLACE_DICT = {\n",
    "#                 \"YearsCodePro\": {'More than 50 years': 51, 'Less than 1 year':0},\n",
    "#                 \"YearsCode\": {'More than 50 years': 51, 'Less than 1 year':0},\n",
    "#                 \"Age1stCode\": {'Older than 85':86, 'Younger than 5 years':4}\n",
    "#                }"
   ]
  },
  {
   "cell_type": "code",
   "execution_count": 13,
   "metadata": {},
   "outputs": [],
   "source": [
    "# for col, replacement in REPLACE_DICT.items():\n",
    "#     raw_df[col] = raw_df[col].replace(replacement).astype('float32')"
   ]
  },
  {
   "cell_type": "code",
   "execution_count": 14,
   "metadata": {},
   "outputs": [],
   "source": [
    "raw_df.to_pickle(EXPORT_PATH)"
   ]
  }
 ],
 "metadata": {
  "kernelspec": {
   "display_name": "Python 3",
   "language": "python",
   "name": "python3"
  },
  "language_info": {
   "codemirror_mode": {
    "name": "ipython",
    "version": 3
   },
   "file_extension": ".py",
   "mimetype": "text/x-python",
   "name": "python",
   "nbconvert_exporter": "python",
   "pygments_lexer": "ipython3",
   "version": "3.8.5"
  }
 },
 "nbformat": 4,
 "nbformat_minor": 4
}
